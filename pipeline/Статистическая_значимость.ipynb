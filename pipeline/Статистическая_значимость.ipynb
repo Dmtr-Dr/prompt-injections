{
  "nbformat": 4,
  "nbformat_minor": 0,
  "metadata": {
    "colab": {
      "provenance": []
    },
    "kernelspec": {
      "name": "python3",
      "display_name": "Python 3"
    },
    "language_info": {
      "name": "python"
    }
  },
  "cells": [
    {
      "cell_type": "markdown",
      "source": [
        "Проверка разницы доли уязвимых ответов"
      ],
      "metadata": {
        "id": "ELoFJlX2JL2t"
      }
    },
    {
      "cell_type": "markdown",
      "source": [
        "| Режим                   | SAFE | VULNERABLE | Всего |\n",
        "| ----------------------- | ---- | ---------- | ----- |\n",
        "| **Без защиты**          | 8449 | 132        | 8581  |\n",
        "| **Комбинация фильтров** | 8201 | 16         | 8217  |\n"
      ],
      "metadata": {
        "id": "P6exumL6JNsr"
      }
    },
    {
      "cell_type": "code",
      "execution_count": 2,
      "metadata": {
        "colab": {
          "base_uri": "https://localhost:8080/"
        },
        "id": "XdzuzDNOIIhw",
        "outputId": "541e47bd-9f3c-4455-8b3e-d5f1df50a529"
      },
      "outputs": [
        {
          "output_type": "stream",
          "name": "stdout",
          "text": [
            "chi2 = 85.23, p-value = 0.0000\n",
            "Различия статистически значимы (p < 0.01).\n"
          ]
        }
      ],
      "source": [
        "from scipy.stats import chi2_contingency\n",
        "\n",
        "\n",
        "table = [[8449, 132],\n",
        "         [8201, 16]]\n",
        "\n",
        "chi2, p, dof, expected = chi2_contingency(table)\n",
        "\n",
        "print(f\"chi2 = {chi2:.2f}, p-value = {p:.4f}\")\n",
        "if p < 0.01:\n",
        "    print(\"Различия статистически значимы (p < 0.01).\")\n",
        "else:\n",
        "    print(\"Нет статистически значимой разницы.\")\n"
      ]
    },
    {
      "cell_type": "code",
      "source": [],
      "metadata": {
        "id": "4JlnzDz0IJEO"
      },
      "execution_count": null,
      "outputs": []
    },
    {
      "cell_type": "code",
      "source": [],
      "metadata": {
        "id": "ilrWxhZSIJGz"
      },
      "execution_count": null,
      "outputs": []
    }
  ]
}